{
 "cells": [
  {
   "cell_type": "markdown",
   "metadata": {},
   "source": [
    "# Numpy习题"
   ]
  },
  {
   "cell_type": "code",
   "execution_count": 5,
   "metadata": {},
   "outputs": [],
   "source": [
    "import numpy as np"
   ]
  },
  {
   "cell_type": "markdown",
   "metadata": {},
   "source": [
    "## 1. 用多种方法创建一个 3x3 并且值从0到8的矩阵"
   ]
  },
  {
   "cell_type": "code",
   "execution_count": 40,
   "metadata": {},
   "outputs": [
    {
     "name": "stdout",
     "output_type": "stream",
     "text": [
      "[[0 1 2]\n",
      " [3 4 5]\n",
      " [6 7 8]]\n"
     ]
    },
    {
     "data": {
      "text/plain": [
       "array([[0, 1, 2],\n",
       "       [3, 4, 5],\n",
       "       [6, 7, 8]])"
      ]
     },
     "execution_count": 40,
     "metadata": {},
     "output_type": "execute_result"
    }
   ],
   "source": [
    "#第一种\n",
    "Z = np.arange(9).reshape(3,3)\n",
    "print(Z)\n",
    "\n",
    "\n",
    "#第二种\n",
    "k=np.array([(0, 1, 2),(3, 4, 5),(6,7,8)])\n",
    "k\n"
   ]
  },
  {
   "cell_type": "markdown",
   "metadata": {},
   "source": [
    "## 2. 用2种创建一个 10x10 的随机数组"
   ]
  },
  {
   "cell_type": "code",
   "execution_count": 22,
   "metadata": {},
   "outputs": [
    {
     "data": {
      "text/plain": [
       "array([[0.12898538, 0.99999465, 0.06378569, 0.60020749, 0.58508535,\n",
       "        0.06118953, 0.56676751, 0.10901185, 0.2969943 , 0.13063407],\n",
       "       [0.92943178, 0.61758537, 0.31584417, 0.50088812, 0.98117722,\n",
       "        0.73555578, 0.16636216, 0.3032065 , 0.77149029, 0.50214648],\n",
       "       [0.08739372, 0.43013459, 0.96111727, 0.65013675, 0.8597506 ,\n",
       "        0.56559216, 0.0118121 , 0.38441137, 0.04891694, 0.02034067],\n",
       "       [0.18343347, 0.85974129, 0.11191143, 0.81101335, 0.13385942,\n",
       "        0.29821302, 0.87886393, 0.540864  , 0.21905982, 0.81577282],\n",
       "       [0.74132863, 0.20361475, 0.73227621, 0.10680705, 0.10364364,\n",
       "        0.79213245, 0.53193385, 0.01981982, 0.9875845 , 0.68046884],\n",
       "       [0.64737529, 0.16511631, 0.31227148, 0.52878346, 0.61531362,\n",
       "        0.94902323, 0.29494911, 0.86774711, 0.47603249, 0.48444582],\n",
       "       [0.59127652, 0.66735143, 0.17149738, 0.99392687, 0.64688482,\n",
       "        0.07801723, 0.52467241, 0.97037619, 0.45969321, 0.93877583],\n",
       "       [0.48078547, 0.50377663, 0.61048617, 0.71899443, 0.36487203,\n",
       "        0.20689649, 0.36892629, 0.26180724, 0.55665343, 0.33870377],\n",
       "       [0.94265034, 0.54645361, 0.07945407, 0.8552508 , 0.15107641,\n",
       "        0.55902331, 0.75207203, 0.21016593, 0.24889739, 0.58028147],\n",
       "       [0.04377757, 0.37578642, 0.96321787, 0.69855991, 0.48212807,\n",
       "        0.46941647, 0.15956596, 0.51082833, 0.21102684, 0.39391994]])"
      ]
     },
     "execution_count": 22,
     "metadata": {},
     "output_type": "execute_result"
    }
   ],
   "source": [
    "#第一种\n",
    "k = np.random.randint(1,20,(10,10))\n",
    "k\n",
    "\n",
    "#第二种\n",
    "z = np.random.random((10,10))\n",
    "z\n"
   ]
  },
  {
   "cell_type": "markdown",
   "metadata": {},
   "source": [
    "## 3. 创建一个 5x5的矩阵，并设置值1,2,3,4,5落在其对角线下方位置 "
   ]
  },
  {
   "cell_type": "code",
   "execution_count": 32,
   "metadata": {},
   "outputs": [
    {
     "data": {
      "text/plain": [
       "array([[0, 0, 0, 0, 0],\n",
       "       [1, 0, 0, 0, 0],\n",
       "       [0, 2, 0, 0, 0],\n",
       "       [0, 0, 3, 0, 0],\n",
       "       [0, 0, 0, 4, 0]])"
      ]
     },
     "execution_count": 32,
     "metadata": {},
     "output_type": "execute_result"
    }
   ],
   "source": [
    "a=np.diag(np.arange(1,5),k=-1)\n",
    "a"
   ]
  },
  {
   "cell_type": "markdown",
   "metadata": {},
   "source": [
    "## 4. 用随机数函数创建一个长度为10的一维数组，并将其排序"
   ]
  },
  {
   "cell_type": "code",
   "execution_count": 109,
   "metadata": {},
   "outputs": [
    {
     "data": {
      "text/plain": [
       "array([ 7, 12, 18, 23, 39, 47, 51, 53, 59, 79])"
      ]
     },
     "execution_count": 109,
     "metadata": {},
     "output_type": "execute_result"
    }
   ],
   "source": [
    "arr= np.random.randint(1,100,10)\n",
    "arr\n",
    "np.sort(arr)"
   ]
  },
  {
   "cell_type": "markdown",
   "metadata": {},
   "source": [
    "## 5.切取数组arr4中四个角的元素并保持和原数组相同的形状 "
   ]
  },
  {
   "cell_type": "code",
   "execution_count": 48,
   "metadata": {},
   "outputs": [
    {
     "data": {
      "text/plain": [
       "array([[ 0,  1,  2],\n",
       "       [ 3,  4,  5],\n",
       "       [ 6,  7,  8],\n",
       "       [ 9, 10, 11]])"
      ]
     },
     "execution_count": 48,
     "metadata": {},
     "output_type": "execute_result"
    }
   ],
   "source": [
    "arr4 = np.array([[0,  1,  2],[3,  4,  5],[6,  7,  8],[9,  10,  11]])\n",
    "arr4\n"
   ]
  },
  {
   "cell_type": "code",
   "execution_count": 86,
   "metadata": {},
   "outputs": [
    {
     "data": {
      "text/plain": [
       "array([[ 0,  2],\n",
       "       [ 9, 11]])"
      ]
     },
     "execution_count": 86,
     "metadata": {},
     "output_type": "execute_result"
    }
   ],
   "source": [
    "a=np.array([[0,0,3,3]])\n",
    "b=np.array([[0,2,0,2]])\n",
    "c=arr4[a,b].reshape((2,2))\n",
    "c\n",
    "\n",
    "\n",
    "\n",
    "\n"
   ]
  },
  {
   "cell_type": "markdown",
   "metadata": {},
   "source": [
    "## 6. 从arr10中切取元素5出来"
   ]
  },
  {
   "cell_type": "code",
   "execution_count": 89,
   "metadata": {},
   "outputs": [
    {
     "data": {
      "text/plain": [
       "array([[5]])"
      ]
     },
     "execution_count": 89,
     "metadata": {},
     "output_type": "execute_result"
    }
   ],
   "source": [
    "arr10 = np.array([[1,2,3],[4,5,6],[7,8,9],[10,11,12]])\n",
    "\n",
    "k=arr10[1:2,1:2]\n",
    "\n",
    "k\n"
   ]
  },
  {
   "cell_type": "markdown",
   "metadata": {},
   "source": [
    "## 7. 从arr10中切取1,2,4,5,7,8出来"
   ]
  },
  {
   "cell_type": "code",
   "execution_count": 92,
   "metadata": {},
   "outputs": [
    {
     "data": {
      "text/plain": [
       "array([[ 1,  2,  3],\n",
       "       [ 4,  5,  6],\n",
       "       [ 7,  8,  9],\n",
       "       [10, 11, 12]])"
      ]
     },
     "execution_count": 92,
     "metadata": {},
     "output_type": "execute_result"
    }
   ],
   "source": [
    "arr10 = np.array([[1,2,3],[4,5,6],[7,8,9],[10,11,12]])\n",
    "\n",
    "arr10"
   ]
  },
  {
   "cell_type": "code",
   "execution_count": 95,
   "metadata": {},
   "outputs": [
    {
     "data": {
      "text/plain": [
       "array([[1, 2],\n",
       "       [4, 5],\n",
       "       [7, 8]])"
      ]
     },
     "execution_count": 95,
     "metadata": {},
     "output_type": "execute_result"
    }
   ],
   "source": [
    "k=arr10[0:3,0:2]\n",
    "\n",
    "k"
   ]
  },
  {
   "cell_type": "markdown",
   "metadata": {},
   "source": [
    "## 8. 从arr5中切取元素取值大于arr5所有元素均值的元素"
   ]
  },
  {
   "cell_type": "code",
   "execution_count": 113,
   "metadata": {},
   "outputs": [],
   "source": [
    "arr5 = np.random.randint(100,size = (4,4))"
   ]
  },
  {
   "cell_type": "code",
   "execution_count": 100,
   "metadata": {},
   "outputs": [
    {
     "name": "stdout",
     "output_type": "stream",
     "text": [
      "[[47 30 13 58]\n",
      " [95 16 75 24]\n",
      " [78 96 56 90]\n",
      " [88 95 24 27]]\n"
     ]
    }
   ],
   "source": [
    "print(arr5)"
   ]
  },
  {
   "cell_type": "code",
   "execution_count": 116,
   "metadata": {},
   "outputs": [
    {
     "data": {
      "text/plain": [
       "array([71, 90, 58, 85, 78, 68, 75, 77, 82])"
      ]
     },
     "execution_count": 116,
     "metadata": {},
     "output_type": "execute_result"
    }
   ],
   "source": [
    "arr5[arr5>arr5.mean()]\n"
   ]
  },
  {
   "cell_type": "markdown",
   "metadata": {},
   "source": [
    "## 9. 求arr5中所有元素的平方"
   ]
  },
  {
   "cell_type": "code",
   "execution_count": 6,
   "metadata": {},
   "outputs": [
    {
     "data": {
      "text/plain": [
       "array([[ 0,  1,  2,  3,  4],\n",
       "       [ 5,  6,  7,  8,  9],\n",
       "       [10, 11, 12, 13, 14]])"
      ]
     },
     "execution_count": 6,
     "metadata": {},
     "output_type": "execute_result"
    }
   ],
   "source": [
    "arr5 = np.arange(15).reshape(3,5) \n",
    "arr5"
   ]
  },
  {
   "cell_type": "code",
   "execution_count": 8,
   "metadata": {},
   "outputs": [
    {
     "data": {
      "text/plain": [
       "array([[  0,   1,   4,   9,  16],\n",
       "       [ 25,  36,  49,  64,  81],\n",
       "       [100, 121, 144, 169, 196]])"
      ]
     },
     "metadata": {},
     "output_type": "display_data"
    }
   ],
   "source": [
    "display(arr5*arr5)"
   ]
  },
  {
   "cell_type": "markdown",
   "metadata": {},
   "source": [
    "## 10 求arr4中元素的最小值,并分别求出按不同轴计算出的最大值、最小值、平均值;"
   ]
  },
  {
   "cell_type": "code",
   "execution_count": 10,
   "metadata": {},
   "outputs": [],
   "source": [
    "arr4 = np.array([[75, 27,  6,  2],\n",
    "       [ 3, 67, 76, 48],\n",
    "       [22, 49, 52,  5],\n",
    "       [13, 89, 34, 75]])"
   ]
  },
  {
   "cell_type": "code",
   "execution_count": 12,
   "metadata": {},
   "outputs": [
    {
     "data": {
      "text/plain": [
       "array([ 2,  3,  5, 13])"
      ]
     },
     "execution_count": 12,
     "metadata": {},
     "output_type": "execute_result"
    }
   ],
   "source": [
    "#最小值\n",
    "arr4.min()\n",
    "\n",
    "#按行\n",
    "#最大值\n",
    "arr4.max(axis=1)\n",
    "#最小值\n",
    "arr4.min(axis=1)\n",
    "#平均值\n",
    "arr4.mean(axis=1)\n",
    "\n",
    "#按列\n",
    "\n",
    "#最大值\n",
    "arr4.max(axis=0)\n",
    "#最小值\n",
    "arr4.min(axis=0)\n",
    "\n",
    "#平均值\n",
    "arr4.mean(axis=0)"
   ]
  },
  {
   "cell_type": "markdown",
   "metadata": {},
   "source": [
    "## 11. 对arr4中的元素进行去重操作"
   ]
  },
  {
   "cell_type": "code",
   "execution_count": 13,
   "metadata": {},
   "outputs": [],
   "source": [
    "arr4 = np.array([[75, 27,  6,  2],\n",
    "       [ 3, 67, 76, 48],\n",
    "       [22, 49, 52,  5],\n",
    "       [13, 89, 34, 75]])"
   ]
  },
  {
   "cell_type": "code",
   "execution_count": 14,
   "metadata": {},
   "outputs": [
    {
     "data": {
      "text/plain": [
       "array([ 2,  3,  5,  6, 13, 22, 27, 34, 48, 49, 52, 67, 75, 76, 89])"
      ]
     },
     "execution_count": 14,
     "metadata": {},
     "output_type": "execute_result"
    }
   ],
   "source": [
    "#去重  np.unique(arr4)"
   ]
  },
  {
   "cell_type": "markdown",
   "metadata": {},
   "source": [
    "## 12. 分别按照不同轴对arr4中的元素进行排序"
   ]
  },
  {
   "cell_type": "code",
   "execution_count": 15,
   "metadata": {},
   "outputs": [],
   "source": [
    "arr4 = np.array([[75, 27,  6,  2],\n",
    "       [ 3, 67, 76, 48],\n",
    "       [22, 49, 52,  5],\n",
    "       [13, 89, 34, 75]])"
   ]
  },
  {
   "cell_type": "code",
   "execution_count": 19,
   "metadata": {},
   "outputs": [
    {
     "data": {
      "text/plain": [
       "array([[ 2,  6, 27, 75],\n",
       "       [ 3, 48, 67, 76],\n",
       "       [ 5, 22, 49, 52],\n",
       "       [13, 34, 75, 89]])"
      ]
     },
     "execution_count": 19,
     "metadata": {},
     "output_type": "execute_result"
    }
   ],
   "source": [
    "np.sort(arr4,axis=1)\n",
    "\n",
    "\n",
    "np.sort(arr4,axis=0)\n"
   ]
  },
  {
   "cell_type": "markdown",
   "metadata": {
    "scrolled": true
   },
   "source": [
    "## 13切取arr5中的第0行元素赋值给arr6,并保证这两个数组完全独立,改变arr6中第2个元素为6,查看arr5是否有变化"
   ]
  },
  {
   "cell_type": "code",
   "execution_count": 71,
   "metadata": {},
   "outputs": [
    {
     "data": {
      "text/plain": [
       "array([[ 0,  1,  2,  3,  4],\n",
       "       [ 5,  6,  7,  8,  9],\n",
       "       [10, 11, 12, 13, 14]])"
      ]
     },
     "execution_count": 71,
     "metadata": {},
     "output_type": "execute_result"
    }
   ],
   "source": [
    "arr5 = np.arange(15).reshape(3,5) \n",
    "arr5\n",
    "\n",
    "\n"
   ]
  },
  {
   "cell_type": "code",
   "execution_count": 72,
   "metadata": {},
   "outputs": [
    {
     "data": {
      "text/plain": [
       "array([[0, 1, 2, 3, 4]])"
      ]
     },
     "execution_count": 72,
     "metadata": {},
     "output_type": "execute_result"
    }
   ],
   "source": [
    "arr6=arr5[0:1,0:5]\n",
    "arr6"
   ]
  },
  {
   "cell_type": "code",
   "execution_count": 78,
   "metadata": {},
   "outputs": [
    {
     "data": {
      "text/plain": [
       "array([[ 0,  6,  2,  3,  4],\n",
       "       [ 5,  6,  7,  8,  9],\n",
       "       [10, 11, 12, 13, 14]])"
      ]
     },
     "execution_count": 78,
     "metadata": {},
     "output_type": "execute_result"
    }
   ],
   "source": [
    "arr6[0,1] = 6\n",
    "arr6\n",
    "\n",
    "arr5\n",
    "#arr5 有变化"
   ]
  },
  {
   "cell_type": "markdown",
   "metadata": {},
   "source": [
    "## 14.判断arr7中是否全部是空值,并对arr7中的元素求平均数"
   ]
  },
  {
   "cell_type": "code",
   "execution_count": 79,
   "metadata": {},
   "outputs": [],
   "source": [
    "arr7 = np.array([np.nan,3.14,np.nan,3,14,2,np.nan]) "
   ]
  },
  {
   "cell_type": "code",
   "execution_count": 80,
   "metadata": {},
   "outputs": [
    {
     "data": {
      "text/plain": [
       "array([ True, False,  True, False, False, False,  True])"
      ]
     },
     "execution_count": 80,
     "metadata": {},
     "output_type": "execute_result"
    }
   ],
   "source": [
    "#判断是否为空值\n",
    "np.isnan(arr7)"
   ]
  },
  {
   "cell_type": "code",
   "execution_count": 81,
   "metadata": {},
   "outputs": [
    {
     "data": {
      "text/plain": [
       "5.535"
      ]
     },
     "execution_count": 81,
     "metadata": {},
     "output_type": "execute_result"
    }
   ],
   "source": [
    "#求平均数\n",
    "np.nanmean(arr7)"
   ]
  },
  {
   "cell_type": "markdown",
   "metadata": {},
   "source": [
    "## 15 有下列三个数组：arr2、arr3、arr4。分别查看这三个数组的形状\\维度\\元素个数\\元素数据类型"
   ]
  },
  {
   "cell_type": "code",
   "execution_count": 82,
   "metadata": {},
   "outputs": [],
   "source": [
    "arr2 = np.random.randn(3,)\n",
    "arr3 = np.random.randn(3,4)\n",
    "arr4 = np.random.randn(1,3,4)"
   ]
  },
  {
   "cell_type": "code",
   "execution_count": 91,
   "metadata": {},
   "outputs": [
    {
     "name": "stdout",
     "output_type": "stream",
     "text": [
      "数组元素数据类型： float64\n",
      "数组元素总数： 3\n",
      "数组形状： (3,)\n",
      "数组的维度数目 1\n"
     ]
    }
   ],
   "source": [
    "#arr2\n",
    "\n",
    "print(\"数组元素数据类型：\",arr2.dtype) \n",
    "print(\"数组元素总数：\",arr2.size)     \n",
    "print(\"数组形状：\",arr2.shape)         \n",
    "print(\"数组的维度数目\",arr2.ndim)\n"
   ]
  },
  {
   "cell_type": "code",
   "execution_count": 88,
   "metadata": {},
   "outputs": [
    {
     "name": "stdout",
     "output_type": "stream",
     "text": [
      "数组元素数据类型： float64\n",
      "数组元素总数： 12\n",
      "数组形状： (3, 4)\n",
      "数组的维度数目 2\n"
     ]
    }
   ],
   "source": [
    "#arr3\n",
    "\n",
    "print(\"数组元素数据类型：\",arr3.dtype) \n",
    "print(\"数组元素总数：\",arr3.size)       \n",
    "print(\"数组形状：\",arr3.shape)        \n",
    "print(\"数组的维度数目\",arr3.ndim)"
   ]
  },
  {
   "cell_type": "code",
   "execution_count": 89,
   "metadata": {},
   "outputs": [
    {
     "name": "stdout",
     "output_type": "stream",
     "text": [
      "数组元素数据类型： float64\n",
      "数组元素总数： 12\n",
      "数组形状： (1, 3, 4)\n",
      "数组的维度数目 3\n"
     ]
    }
   ],
   "source": [
    "#arr4\n",
    "\n",
    "print(\"数组元素数据类型：\",arr4.dtype)  \n",
    "print(\"数组元素总数：\",arr4.size)      \n",
    "print(\"数组形状：\",arr4.shape)        \n",
    "print(\"数组的维度数目\",arr4.ndim)"
   ]
  },
  {
   "cell_type": "markdown",
   "metadata": {},
   "source": [
    "## 16 把arr4拆分为左右两部分，左边2列"
   ]
  },
  {
   "cell_type": "code",
   "execution_count": 96,
   "metadata": {},
   "outputs": [
    {
     "data": {
      "text/plain": [
       "array([[ 5,  3, 16, 19, 15],\n",
       "       [ 6, 18, 15,  5, 10],\n",
       "       [17,  4, 11,  2, 14],\n",
       "       [ 6, 13,  2, 16, 10]])"
      ]
     },
     "execution_count": 96,
     "metadata": {},
     "output_type": "execute_result"
    }
   ],
   "source": [
    "arr4 = np.random.randint(20,size = (4, 5))\n",
    "arr4"
   ]
  },
  {
   "cell_type": "code",
   "execution_count": 99,
   "metadata": {},
   "outputs": [
    {
     "data": {
      "text/plain": [
       "[array([[ 5,  3],\n",
       "        [ 6, 18],\n",
       "        [17,  4],\n",
       "        [ 6, 13]]),\n",
       " array([[16, 19, 15],\n",
       "        [15,  5, 10],\n",
       "        [11,  2, 14],\n",
       "        [ 2, 16, 10]])]"
      ]
     },
     "execution_count": 99,
     "metadata": {},
     "output_type": "execute_result"
    }
   ],
   "source": [
    "l=np.hsplit(arr4,[2])\n",
    "l\n"
   ]
  },
  {
   "cell_type": "code",
   "execution_count": null,
   "metadata": {},
   "outputs": [],
   "source": []
  },
  {
   "cell_type": "markdown",
   "metadata": {},
   "source": [
    "## 17. 将下面两个数组分别按照最外边的轴和最里边的轴进行拼接"
   ]
  },
  {
   "cell_type": "code",
   "execution_count": 100,
   "metadata": {},
   "outputs": [],
   "source": [
    "arr5 = np.arange(15).reshape(3,5)\n",
    "arr6 = np.arange(20,35).reshape(3,5)"
   ]
  },
  {
   "cell_type": "code",
   "execution_count": 101,
   "metadata": {},
   "outputs": [
    {
     "data": {
      "text/plain": [
       "array([[ 0,  1,  2,  3,  4, 20, 21, 22, 23, 24],\n",
       "       [ 5,  6,  7,  8,  9, 25, 26, 27, 28, 29],\n",
       "       [10, 11, 12, 13, 14, 30, 31, 32, 33, 34]])"
      ]
     },
     "execution_count": 101,
     "metadata": {},
     "output_type": "execute_result"
    }
   ],
   "source": [
    "\n",
    "np.hstack((arr5,arr6)) "
   ]
  },
  {
   "cell_type": "code",
   "execution_count": 102,
   "metadata": {},
   "outputs": [
    {
     "data": {
      "text/plain": [
       "array([[ 0,  1,  2,  3,  4],\n",
       "       [ 5,  6,  7,  8,  9],\n",
       "       [10, 11, 12, 13, 14],\n",
       "       [20, 21, 22, 23, 24],\n",
       "       [25, 26, 27, 28, 29],\n",
       "       [30, 31, 32, 33, 34]])"
      ]
     },
     "execution_count": 102,
     "metadata": {},
     "output_type": "execute_result"
    }
   ],
   "source": [
    "np.vstack((arr5,arr6)) "
   ]
  },
  {
   "cell_type": "markdown",
   "metadata": {},
   "source": [
    "## 18 任意写两个形状不同但是符合广播规则的数组,并对他们包含的元素进行乘法运算"
   ]
  },
  {
   "cell_type": "code",
   "execution_count": 107,
   "metadata": {},
   "outputs": [
    {
     "data": {
      "text/plain": [
       "array([[357, 176, 702, 260,  80, 319],\n",
       "       [306,  22, 162, 260,  12, 198],\n",
       "       [255,  99, 324, 364,  80, 176],\n",
       "       [153, 121, 270,  52,  64, 275]])"
      ]
     },
     "metadata": {},
     "output_type": "display_data"
    }
   ],
   "source": [
    "k1=np.random.randint(1,30,(1,6))\n",
    "k2=np.random.randint(1,30,(4,6))\n",
    "\n",
    "display(k1*k2)"
   ]
  }
 ],
 "metadata": {
  "kernelspec": {
   "display_name": "Python 3 (ipykernel)",
   "language": "python",
   "name": "python3"
  },
  "language_info": {
   "codemirror_mode": {
    "name": "ipython",
    "version": 3
   },
   "file_extension": ".py",
   "mimetype": "text/x-python",
   "name": "python",
   "nbconvert_exporter": "python",
   "pygments_lexer": "ipython3",
   "version": "3.9.12"
  },
  "toc": {
   "base_numbering": 1,
   "nav_menu": {},
   "number_sections": false,
   "sideBar": true,
   "skip_h1_title": false,
   "title_cell": "Table of Contents",
   "title_sidebar": "Contents",
   "toc_cell": false,
   "toc_position": {},
   "toc_section_display": true,
   "toc_window_display": false
  },
  "varInspector": {
   "cols": {
    "lenName": 16,
    "lenType": 16,
    "lenVar": 40
   },
   "kernels_config": {
    "python": {
     "delete_cmd_postfix": "",
     "delete_cmd_prefix": "del ",
     "library": "var_list.py",
     "varRefreshCmd": "print(var_dic_list())"
    },
    "r": {
     "delete_cmd_postfix": ") ",
     "delete_cmd_prefix": "rm(",
     "library": "var_list.r",
     "varRefreshCmd": "cat(var_dic_list()) "
    }
   },
   "types_to_exclude": [
    "module",
    "function",
    "builtin_function_or_method",
    "instance",
    "_Feature"
   ],
   "window_display": false
  }
 },
 "nbformat": 4,
 "nbformat_minor": 2
}
